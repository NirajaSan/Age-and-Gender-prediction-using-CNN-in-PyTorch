{
  "cells": [
    {
      "cell_type": "code",
      "execution_count": null,
      "metadata": {
        "id": "kzWQ3Xj-FH_-"
      },
      "outputs": [],
      "source": [
        "import torch\n",
        "import torchvision\n",
        "import torchvision.transforms as transforms\n",
        "from time import perf_counter\n",
        "from tensorflow.keras.utils import load_img\n",
        "\n",
        "import pandas as pd\n",
        "import numpy as np\n",
        "import os\n",
        "import matplotlib.pyplot as plt\n",
        "import seaborn as sns\n",
        "import warnings\n",
        "from tqdm.notebook import tqdm\n",
        "warnings.filterwarnings('ignore')\n",
        "%matplotlib inline\n",
        "\n",
        "from sklearn.model_selection import train_test_split\n",
        "from sklearn.metrics import confusion_matrix\n",
        "from sklearn.metrics import classification_report"
      ]
    },
    {
      "cell_type": "code",
      "execution_count": null,
      "metadata": {
        "colab": {
          "base_uri": "https://localhost:8080/"
        },
        "id": "6-xeDOIOh8vr",
        "outputId": "1ed819aa-07f6-4f41-ddeb-1f1c1f4afc68"
      },
      "outputs": [
        {
          "output_type": "stream",
          "name": "stdout",
          "text": [
            "Mounted at /content/drive/\n"
          ]
        }
      ],
      "source": [
        "from google.colab import drive\n",
        "drive.mount('/content/drive/')"
      ]
    },
    {
      "cell_type": "code",
      "execution_count": null,
      "metadata": {
        "id": "OlAhfXbiiRJC"
      },
      "outputs": [],
      "source": [
        "# Load Dataset\n",
        "\n",
        "base_dir = '/content/drive/MyDrive/UTKFace'"
      ]
    },
    {
      "cell_type": "code",
      "execution_count": null,
      "metadata": {
        "colab": {
          "base_uri": "https://localhost:8080/",
          "height": 49,
          "referenced_widgets": [
            "f0c4d8acae064e96b73714a70c49768d",
            "1c65b7c8d82144829730edbbb3aa81c7",
            "63fd30b133174dafa3cd700d9f16100d",
            "ed94694cb4e34d2789e09cc3393b5986",
            "7a9b18ff6ff54c79a7a099abbbeb0b0f",
            "31e837cec54c46288de87f7c123a005a",
            "cdbfaba04d8e4bf1b26d737c22f34a6e",
            "57130b8085154af39418b13ebe0ea388",
            "588ce7ab5461495b84bf3be5533d8184",
            "65e898cc242b4f919f857955ceb08050",
            "9cad5bcdc5a3440c9b7e5c5f4829ac2f"
          ]
        },
        "id": "5x1vVrIkiaOu",
        "outputId": "01507476-ec9e-4ccd-f96c-0d33962ad664"
      },
      "outputs": [
        {
          "output_type": "display_data",
          "data": {
            "text/plain": [
              "  0%|          | 0/10497 [00:00<?, ?it/s]"
            ],
            "application/vnd.jupyter.widget-view+json": {
              "version_major": 2,
              "version_minor": 0,
              "model_id": "f0c4d8acae064e96b73714a70c49768d"
            }
          },
          "metadata": {}
        }
      ],
      "source": [
        "# labels age, gender, ethnicity\n",
        "\n",
        "image_paths = []\n",
        "age_labels = []\n",
        "gender_labels = []\n",
        "\n",
        "for filename in tqdm(os.listdir(base_dir)):\n",
        "    image_path = os.path.join(base_dir, filename)\n",
        "    temp = filename.split('_')\n",
        "    age = int(temp[0])\n",
        "    gender = int(temp[1])\n",
        "    image_paths.append(image_path)\n",
        "    age_labels.append(age)\n",
        "    gender_labels.append(gender)"
      ]
    },
    {
      "cell_type": "code",
      "execution_count": null,
      "metadata": {
        "colab": {
          "base_uri": "https://localhost:8080/",
          "height": 206
        },
        "id": "lpNLMJD2ihzv",
        "outputId": "eff39f31-6341-4605-d1cf-c5840eff83f2"
      },
      "outputs": [
        {
          "output_type": "execute_result",
          "data": {
            "text/plain": [
              "                                               image  age  gender\n",
              "0  /content/drive/MyDrive/UTKFace/67_0_1_20170117...   67       0\n",
              "1  /content/drive/MyDrive/UTKFace/67_0_3_20161220...   67       0\n",
              "2  /content/drive/MyDrive/UTKFace/67_1_0_20170120...   67       1\n",
              "3  /content/drive/MyDrive/UTKFace/67_1_0_20170120...   67       1\n",
              "4  /content/drive/MyDrive/UTKFace/67_1_0_20170110...   67       1"
            ],
            "text/html": [
              "\n",
              "  <div id=\"df-59edd1a2-a60b-4617-ac77-fc79ed55415b\">\n",
              "    <div class=\"colab-df-container\">\n",
              "      <div>\n",
              "<style scoped>\n",
              "    .dataframe tbody tr th:only-of-type {\n",
              "        vertical-align: middle;\n",
              "    }\n",
              "\n",
              "    .dataframe tbody tr th {\n",
              "        vertical-align: top;\n",
              "    }\n",
              "\n",
              "    .dataframe thead th {\n",
              "        text-align: right;\n",
              "    }\n",
              "</style>\n",
              "<table border=\"1\" class=\"dataframe\">\n",
              "  <thead>\n",
              "    <tr style=\"text-align: right;\">\n",
              "      <th></th>\n",
              "      <th>image</th>\n",
              "      <th>age</th>\n",
              "      <th>gender</th>\n",
              "    </tr>\n",
              "  </thead>\n",
              "  <tbody>\n",
              "    <tr>\n",
              "      <th>0</th>\n",
              "      <td>/content/drive/MyDrive/UTKFace/67_0_1_20170117...</td>\n",
              "      <td>67</td>\n",
              "      <td>0</td>\n",
              "    </tr>\n",
              "    <tr>\n",
              "      <th>1</th>\n",
              "      <td>/content/drive/MyDrive/UTKFace/67_0_3_20161220...</td>\n",
              "      <td>67</td>\n",
              "      <td>0</td>\n",
              "    </tr>\n",
              "    <tr>\n",
              "      <th>2</th>\n",
              "      <td>/content/drive/MyDrive/UTKFace/67_1_0_20170120...</td>\n",
              "      <td>67</td>\n",
              "      <td>1</td>\n",
              "    </tr>\n",
              "    <tr>\n",
              "      <th>3</th>\n",
              "      <td>/content/drive/MyDrive/UTKFace/67_1_0_20170120...</td>\n",
              "      <td>67</td>\n",
              "      <td>1</td>\n",
              "    </tr>\n",
              "    <tr>\n",
              "      <th>4</th>\n",
              "      <td>/content/drive/MyDrive/UTKFace/67_1_0_20170110...</td>\n",
              "      <td>67</td>\n",
              "      <td>1</td>\n",
              "    </tr>\n",
              "  </tbody>\n",
              "</table>\n",
              "</div>\n",
              "      <button class=\"colab-df-convert\" onclick=\"convertToInteractive('df-59edd1a2-a60b-4617-ac77-fc79ed55415b')\"\n",
              "              title=\"Convert this dataframe to an interactive table.\"\n",
              "              style=\"display:none;\">\n",
              "        \n",
              "  <svg xmlns=\"http://www.w3.org/2000/svg\" height=\"24px\"viewBox=\"0 0 24 24\"\n",
              "       width=\"24px\">\n",
              "    <path d=\"M0 0h24v24H0V0z\" fill=\"none\"/>\n",
              "    <path d=\"M18.56 5.44l.94 2.06.94-2.06 2.06-.94-2.06-.94-.94-2.06-.94 2.06-2.06.94zm-11 1L8.5 8.5l.94-2.06 2.06-.94-2.06-.94L8.5 2.5l-.94 2.06-2.06.94zm10 10l.94 2.06.94-2.06 2.06-.94-2.06-.94-.94-2.06-.94 2.06-2.06.94z\"/><path d=\"M17.41 7.96l-1.37-1.37c-.4-.4-.92-.59-1.43-.59-.52 0-1.04.2-1.43.59L10.3 9.45l-7.72 7.72c-.78.78-.78 2.05 0 2.83L4 21.41c.39.39.9.59 1.41.59.51 0 1.02-.2 1.41-.59l7.78-7.78 2.81-2.81c.8-.78.8-2.07 0-2.86zM5.41 20L4 18.59l7.72-7.72 1.47 1.35L5.41 20z\"/>\n",
              "  </svg>\n",
              "      </button>\n",
              "      \n",
              "  <style>\n",
              "    .colab-df-container {\n",
              "      display:flex;\n",
              "      flex-wrap:wrap;\n",
              "      gap: 12px;\n",
              "    }\n",
              "\n",
              "    .colab-df-convert {\n",
              "      background-color: #E8F0FE;\n",
              "      border: none;\n",
              "      border-radius: 50%;\n",
              "      cursor: pointer;\n",
              "      display: none;\n",
              "      fill: #1967D2;\n",
              "      height: 32px;\n",
              "      padding: 0 0 0 0;\n",
              "      width: 32px;\n",
              "    }\n",
              "\n",
              "    .colab-df-convert:hover {\n",
              "      background-color: #E2EBFA;\n",
              "      box-shadow: 0px 1px 2px rgba(60, 64, 67, 0.3), 0px 1px 3px 1px rgba(60, 64, 67, 0.15);\n",
              "      fill: #174EA6;\n",
              "    }\n",
              "\n",
              "    [theme=dark] .colab-df-convert {\n",
              "      background-color: #3B4455;\n",
              "      fill: #D2E3FC;\n",
              "    }\n",
              "\n",
              "    [theme=dark] .colab-df-convert:hover {\n",
              "      background-color: #434B5C;\n",
              "      box-shadow: 0px 1px 3px 1px rgba(0, 0, 0, 0.15);\n",
              "      filter: drop-shadow(0px 1px 2px rgba(0, 0, 0, 0.3));\n",
              "      fill: #FFFFFF;\n",
              "    }\n",
              "  </style>\n",
              "\n",
              "      <script>\n",
              "        const buttonEl =\n",
              "          document.querySelector('#df-59edd1a2-a60b-4617-ac77-fc79ed55415b button.colab-df-convert');\n",
              "        buttonEl.style.display =\n",
              "          google.colab.kernel.accessAllowed ? 'block' : 'none';\n",
              "\n",
              "        async function convertToInteractive(key) {\n",
              "          const element = document.querySelector('#df-59edd1a2-a60b-4617-ac77-fc79ed55415b');\n",
              "          const dataTable =\n",
              "            await google.colab.kernel.invokeFunction('convertToInteractive',\n",
              "                                                     [key], {});\n",
              "          if (!dataTable) return;\n",
              "\n",
              "          const docLinkHtml = 'Like what you see? Visit the ' +\n",
              "            '<a target=\"_blank\" href=https://colab.research.google.com/notebooks/data_table.ipynb>data table notebook</a>'\n",
              "            + ' to learn more about interactive tables.';\n",
              "          element.innerHTML = '';\n",
              "          dataTable['output_type'] = 'display_data';\n",
              "          await google.colab.output.renderOutput(dataTable, element);\n",
              "          const docLink = document.createElement('div');\n",
              "          docLink.innerHTML = docLinkHtml;\n",
              "          element.appendChild(docLink);\n",
              "        }\n",
              "      </script>\n",
              "    </div>\n",
              "  </div>\n",
              "  "
            ]
          },
          "metadata": {},
          "execution_count": 5
        }
      ],
      "source": [
        "# convert to dataframe\n",
        "\n",
        "df = pd.DataFrame()\n",
        "df['image'], df['age'], df['gender'] = image_paths, age_labels, gender_labels\n",
        "df.head()"
      ]
    },
    {
      "cell_type": "code",
      "execution_count": null,
      "metadata": {
        "colab": {
          "base_uri": "https://localhost:8080/"
        },
        "id": "8K-lCyLiimF_",
        "outputId": "32cfbfbf-3a04-4995-a280-60224d72edc4"
      },
      "outputs": [
        {
          "output_type": "stream",
          "name": "stdout",
          "text": [
            "10497\n",
            "(10497, 3)\n"
          ]
        }
      ],
      "source": [
        "print(len(df))\n",
        "print(df.shape)"
      ]
    },
    {
      "cell_type": "code",
      "execution_count": null,
      "metadata": {
        "colab": {
          "base_uri": "https://localhost:8080/"
        },
        "id": "Qd-mmi2e_mbF",
        "outputId": "29c4eb91-7838-4a39-faa6-4ea7929b7ca2"
      },
      "outputs": [
        {
          "output_type": "stream",
          "name": "stdout",
          "text": [
            "age_count:  26     810\n",
            "35     500\n",
            "28     490\n",
            "32     410\n",
            "30     391\n",
            "      ... \n",
            "101      2\n",
            "116      2\n",
            "91       2\n",
            "103      1\n",
            "111      1\n",
            "Name: age, Length: 103, dtype: int64\n",
            "gender count:  1    5268\n",
            "0    5229\n",
            "Name: gender, dtype: int64\n"
          ]
        }
      ],
      "source": [
        "print(\"age_count: \",df['age'].value_counts())\n",
        "print(\"gender count: \",df['gender'].value_counts())"
      ]
    },
    {
      "cell_type": "code",
      "execution_count": null,
      "metadata": {
        "colab": {
          "base_uri": "https://localhost:8080/"
        },
        "id": "h1kzWs1V_mdo",
        "outputId": "70e18c1f-845a-4d4f-cc32-fbd3ee2e9efa"
      },
      "outputs": [
        {
          "output_type": "stream",
          "name": "stdout",
          "text": [
            "image : ['/content/drive/MyDrive/UTKFace/67_0_1_20170117185950062.jpg.chip.jpg'\n",
            " '/content/drive/MyDrive/UTKFace/67_0_3_20161220221736930.jpg.chip.jpg'\n",
            " '/content/drive/MyDrive/UTKFace/67_1_0_20170120223746014.jpg.chip.jpg'\n",
            " ...\n",
            " '/content/drive/MyDrive/UTKFace/18_0_3_20170117135605224.jpg.chip.jpg'\n",
            " '/content/drive/MyDrive/UTKFace/18_0_1_20170116210348146.jpg.chip.jpg'\n",
            " '/content/drive/MyDrive/UTKFace/18_1_0_20170105002457379.jpg.chip.jpg']\n",
            "age : [ 67  68  69   6  70  71  72  73  74  75  76  78  79   7  80  81  82  83\n",
            "  84  85  86  87  88  89   8  90  93  92  91  96  95   9  99   4  50  51\n",
            "  52  53  54  55  56  57  58  59   5  60  61  62  63  64  65  66  40   3\n",
            "  41  42  43  44  45  46  47  48  49  37  38  39  34  35  36  30  31  32\n",
            "  33  28  29   2  26  27  24  25  18  19   1  20  21  22  23 100  10 101\n",
            " 105 103  11 115 110 116 111  12  13  14  15  16  17]\n",
            "gender : [0 1]\n"
          ]
        }
      ],
      "source": [
        "for column in df:\n",
        "    print(f'{column} : {df[column].unique()}')"
      ]
    },
    {
      "cell_type": "code",
      "execution_count": null,
      "metadata": {
        "id": "xAe7gZvt_mgQ"
      },
      "outputs": [],
      "source": [
        "# Age labels class assign\n",
        "\n",
        "def class_labels_reassign(age_labels):\n",
        "\n",
        "  if 1 <= age_labels <= 2:\n",
        "    return 0\n",
        "  elif 3 <= age_labels <= 5:\n",
        "    return 1\n",
        "  elif 6 <= age_labels <= 9:\n",
        "    return 2\n",
        "  elif 10 <= age_labels <= 20:\n",
        "    return 3\n",
        "  elif 21 <= age_labels <= 30:\n",
        "    return 4\n",
        "  elif 31 <= age_labels <= 40:\n",
        "    return 5\n",
        "  elif 41 <= age_labels <= 50:\n",
        "    return 6\n",
        "  elif 51 <= age_labels <= 60:\n",
        "    return 7\n",
        "  elif 61 <= age_labels <= 70:\n",
        "    return 8\n",
        "  elif 71 <= age_labels <= 80:\n",
        "    return 9\n",
        "  elif 81 <= age_labels <= 90:\n",
        "    return 10\n",
        "  elif 91 <= age_labels <= 100:\n",
        "    return 11\n",
        "  else:\n",
        "    return 12"
      ]
    },
    {
      "cell_type": "code",
      "execution_count": null,
      "metadata": {
        "colab": {
          "base_uri": "https://localhost:8080/",
          "height": 206
        },
        "id": "VtQAp8I0_mio",
        "outputId": "4dbc548b-7514-4976-885e-47cc6086b870"
      },
      "outputs": [
        {
          "output_type": "execute_result",
          "data": {
            "text/plain": [
              "                                               image  age  gender  age_target\n",
              "0  /content/drive/MyDrive/UTKFace/67_0_1_20170117...   67       0           8\n",
              "1  /content/drive/MyDrive/UTKFace/67_0_3_20161220...   67       0           8\n",
              "2  /content/drive/MyDrive/UTKFace/67_1_0_20170120...   67       1           8\n",
              "3  /content/drive/MyDrive/UTKFace/67_1_0_20170120...   67       1           8\n",
              "4  /content/drive/MyDrive/UTKFace/67_1_0_20170110...   67       1           8"
            ],
            "text/html": [
              "\n",
              "  <div id=\"df-c9b2539f-7cbe-46ef-9529-7b27497d863f\">\n",
              "    <div class=\"colab-df-container\">\n",
              "      <div>\n",
              "<style scoped>\n",
              "    .dataframe tbody tr th:only-of-type {\n",
              "        vertical-align: middle;\n",
              "    }\n",
              "\n",
              "    .dataframe tbody tr th {\n",
              "        vertical-align: top;\n",
              "    }\n",
              "\n",
              "    .dataframe thead th {\n",
              "        text-align: right;\n",
              "    }\n",
              "</style>\n",
              "<table border=\"1\" class=\"dataframe\">\n",
              "  <thead>\n",
              "    <tr style=\"text-align: right;\">\n",
              "      <th></th>\n",
              "      <th>image</th>\n",
              "      <th>age</th>\n",
              "      <th>gender</th>\n",
              "      <th>age_target</th>\n",
              "    </tr>\n",
              "  </thead>\n",
              "  <tbody>\n",
              "    <tr>\n",
              "      <th>0</th>\n",
              "      <td>/content/drive/MyDrive/UTKFace/67_0_1_20170117...</td>\n",
              "      <td>67</td>\n",
              "      <td>0</td>\n",
              "      <td>8</td>\n",
              "    </tr>\n",
              "    <tr>\n",
              "      <th>1</th>\n",
              "      <td>/content/drive/MyDrive/UTKFace/67_0_3_20161220...</td>\n",
              "      <td>67</td>\n",
              "      <td>0</td>\n",
              "      <td>8</td>\n",
              "    </tr>\n",
              "    <tr>\n",
              "      <th>2</th>\n",
              "      <td>/content/drive/MyDrive/UTKFace/67_1_0_20170120...</td>\n",
              "      <td>67</td>\n",
              "      <td>1</td>\n",
              "      <td>8</td>\n",
              "    </tr>\n",
              "    <tr>\n",
              "      <th>3</th>\n",
              "      <td>/content/drive/MyDrive/UTKFace/67_1_0_20170120...</td>\n",
              "      <td>67</td>\n",
              "      <td>1</td>\n",
              "      <td>8</td>\n",
              "    </tr>\n",
              "    <tr>\n",
              "      <th>4</th>\n",
              "      <td>/content/drive/MyDrive/UTKFace/67_1_0_20170110...</td>\n",
              "      <td>67</td>\n",
              "      <td>1</td>\n",
              "      <td>8</td>\n",
              "    </tr>\n",
              "  </tbody>\n",
              "</table>\n",
              "</div>\n",
              "      <button class=\"colab-df-convert\" onclick=\"convertToInteractive('df-c9b2539f-7cbe-46ef-9529-7b27497d863f')\"\n",
              "              title=\"Convert this dataframe to an interactive table.\"\n",
              "              style=\"display:none;\">\n",
              "        \n",
              "  <svg xmlns=\"http://www.w3.org/2000/svg\" height=\"24px\"viewBox=\"0 0 24 24\"\n",
              "       width=\"24px\">\n",
              "    <path d=\"M0 0h24v24H0V0z\" fill=\"none\"/>\n",
              "    <path d=\"M18.56 5.44l.94 2.06.94-2.06 2.06-.94-2.06-.94-.94-2.06-.94 2.06-2.06.94zm-11 1L8.5 8.5l.94-2.06 2.06-.94-2.06-.94L8.5 2.5l-.94 2.06-2.06.94zm10 10l.94 2.06.94-2.06 2.06-.94-2.06-.94-.94-2.06-.94 2.06-2.06.94z\"/><path d=\"M17.41 7.96l-1.37-1.37c-.4-.4-.92-.59-1.43-.59-.52 0-1.04.2-1.43.59L10.3 9.45l-7.72 7.72c-.78.78-.78 2.05 0 2.83L4 21.41c.39.39.9.59 1.41.59.51 0 1.02-.2 1.41-.59l7.78-7.78 2.81-2.81c.8-.78.8-2.07 0-2.86zM5.41 20L4 18.59l7.72-7.72 1.47 1.35L5.41 20z\"/>\n",
              "  </svg>\n",
              "      </button>\n",
              "      \n",
              "  <style>\n",
              "    .colab-df-container {\n",
              "      display:flex;\n",
              "      flex-wrap:wrap;\n",
              "      gap: 12px;\n",
              "    }\n",
              "\n",
              "    .colab-df-convert {\n",
              "      background-color: #E8F0FE;\n",
              "      border: none;\n",
              "      border-radius: 50%;\n",
              "      cursor: pointer;\n",
              "      display: none;\n",
              "      fill: #1967D2;\n",
              "      height: 32px;\n",
              "      padding: 0 0 0 0;\n",
              "      width: 32px;\n",
              "    }\n",
              "\n",
              "    .colab-df-convert:hover {\n",
              "      background-color: #E2EBFA;\n",
              "      box-shadow: 0px 1px 2px rgba(60, 64, 67, 0.3), 0px 1px 3px 1px rgba(60, 64, 67, 0.15);\n",
              "      fill: #174EA6;\n",
              "    }\n",
              "\n",
              "    [theme=dark] .colab-df-convert {\n",
              "      background-color: #3B4455;\n",
              "      fill: #D2E3FC;\n",
              "    }\n",
              "\n",
              "    [theme=dark] .colab-df-convert:hover {\n",
              "      background-color: #434B5C;\n",
              "      box-shadow: 0px 1px 3px 1px rgba(0, 0, 0, 0.15);\n",
              "      filter: drop-shadow(0px 1px 2px rgba(0, 0, 0, 0.3));\n",
              "      fill: #FFFFFF;\n",
              "    }\n",
              "  </style>\n",
              "\n",
              "      <script>\n",
              "        const buttonEl =\n",
              "          document.querySelector('#df-c9b2539f-7cbe-46ef-9529-7b27497d863f button.colab-df-convert');\n",
              "        buttonEl.style.display =\n",
              "          google.colab.kernel.accessAllowed ? 'block' : 'none';\n",
              "\n",
              "        async function convertToInteractive(key) {\n",
              "          const element = document.querySelector('#df-c9b2539f-7cbe-46ef-9529-7b27497d863f');\n",
              "          const dataTable =\n",
              "            await google.colab.kernel.invokeFunction('convertToInteractive',\n",
              "                                                     [key], {});\n",
              "          if (!dataTable) return;\n",
              "\n",
              "          const docLinkHtml = 'Like what you see? Visit the ' +\n",
              "            '<a target=\"_blank\" href=https://colab.research.google.com/notebooks/data_table.ipynb>data table notebook</a>'\n",
              "            + ' to learn more about interactive tables.';\n",
              "          element.innerHTML = '';\n",
              "          dataTable['output_type'] = 'display_data';\n",
              "          await google.colab.output.renderOutput(dataTable, element);\n",
              "          const docLink = document.createElement('div');\n",
              "          docLink.innerHTML = docLinkHtml;\n",
              "          element.appendChild(docLink);\n",
              "        }\n",
              "      </script>\n",
              "    </div>\n",
              "  </div>\n",
              "  "
            ]
          },
          "metadata": {},
          "execution_count": 10
        }
      ],
      "source": [
        "df['age_target'] = df['age'].map(class_labels_reassign)\n",
        "df.head()"
      ]
    },
    {
      "cell_type": "code",
      "execution_count": null,
      "metadata": {
        "colab": {
          "base_uri": "https://localhost:8080/",
          "height": 283
        },
        "id": "-q_s4cC2_ml6",
        "outputId": "3da7d15d-aa29-421f-d6c1-117334d9dcf2"
      },
      "outputs": [
        {
          "output_type": "stream",
          "name": "stdout",
          "text": [
            "height: 200\n",
            "width: 200\n"
          ]
        },
        {
          "output_type": "display_data",
          "data": {
            "text/plain": [
              "<Figure size 432x288 with 1 Axes>"
            ],
            "image/png": "[encoded data removed]"
          },
          "metadata": {
            "needs_background": "light"
          }
        }
      ],
      "source": [
        "# Exploratory Data Analysis\n",
        "\n",
        "from PIL import Image\n",
        "img = Image.open(df['image'][600])\n",
        "plt.axis('off')\n",
        "plt.imshow(img)\n",
        "\n",
        "width, height = img.size\n",
        "print(\"height:\", height)\n",
        "print(\"width:\", width)"
      ]
    },
    {
      "cell_type": "code",
      "execution_count": null,
      "metadata": {
        "id": "SSkfnrgc_6BM"
      },
      "outputs": [],
      "source": [
        "sns.distplot(df['age'])"
      ]
    },
    {
      "cell_type": "code",
      "execution_count": null,
      "metadata": {
        "id": "GtoyGV_S_6Dq"
      },
      "outputs": [],
      "source": [
        "sns.countplot(df['gender'])"
      ]
    },
    {
      "cell_type": "code",
      "execution_count": null,
      "metadata": {
        "id": "Id5wvwxU_6Gb"
      },
      "outputs": [],
      "source": [
        "# Feature extraction\n",
        "\n",
        "def extract_features(images):\n",
        "\n",
        "    features = []\n",
        "    for image in tqdm(images):\n",
        "        img = load_img(image, grayscale=True)\n",
        "        img = img.resize((128, 128), Image.ANTIALIAS)\n",
        "        img = np.array(img)\n",
        "        features.append(img)\n",
        "\n",
        "    features = np.array(features)\n",
        "        #ignore this step if using RGB\n",
        "    features = features.reshape(len(features), 1, 128, 128)\n",
        "    return features"
      ]
    },
    {
      "cell_type": "code",
      "execution_count": null,
      "metadata": {
        "colab": {
          "base_uri": "https://localhost:8080/",
          "height": 49,
          "referenced_widgets": [
            "c2e4f31f9e30435c99af954ca85c5eaa",
            "677acb478a584cce9b4279a6bdacd51f",
            "23649bbe8b1744e3b9f62476d167cfe5",
            "e47ad0137ba3478b9af23b6fce2ddaec",
            "2709714abf0a4434a92903c593206a0b",
            "7b067d0822ad4e789488b636d882e120",
            "68d3082db8b44cfd8d5c30a1b9c48bf0",
            "31bb66bac6ce43168cf532771d706196",
            "cc24b1031d5d4cdfab5e80920dbe3ce1",
            "0a03d274a79649db973c9cc8463a7c56",
            "61a88c0dea0a4f02b65e513c40dc9600"
          ]
        },
        "id": "sqKo0637_6I2",
        "outputId": "fc177a99-98bd-4948-d0a4-96dbd727f0ad"
      },
      "outputs": [
        {
          "output_type": "display_data",
          "data": {
            "text/plain": [
              "  0%|          | 0/10497 [00:00<?, ?it/s]"
            ],
            "application/vnd.jupyter.widget-view+json": {
              "version_major": 2,
              "version_minor": 0,
              "model_id": "c2e4f31f9e30435c99af954ca85c5eaa"
            }
          },
          "metadata": {}
        }
      ],
      "source": [
        "X = extract_features(df['image'])"
      ]
    },
    {
      "cell_type": "code",
      "execution_count": null,
      "metadata": {
        "colab": {
          "base_uri": "https://localhost:8080/"
        },
        "id": "I3eC7aYc_6LZ",
        "outputId": "f8e10396-52d9-4495-ee1e-bee26674e387"
      },
      "outputs": [
        {
          "output_type": "execute_result",
          "data": {
            "text/plain": [
              "(10497, 1, 128, 128)"
            ]
          },
          "metadata": {},
          "execution_count": 14
        }
      ],
      "source": [
        "X.shape"
      ]
    },
    {
      "cell_type": "code",
      "execution_count": null,
      "metadata": {
        "colab": {
          "base_uri": "https://localhost:8080/"
        },
        "id": "8g0khZ-A_6N4",
        "outputId": "d2ffda7e-514c-4976-ffaf-12f9b2c28e37"
      },
      "outputs": [
        {
          "output_type": "execute_result",
          "data": {
            "text/plain": [
              "array([[[168, 165, 170, ...,   0,   4,   0],\n",
              "        [174, 172, 173, ...,   0,   4,   5],\n",
              "        [177, 174, 172, ...,   0,   2,   6],\n",
              "        ...,\n",
              "        [ 19,  18,  17, ..., 123, 134, 143],\n",
              "        [ 21,  20,  18, ..., 138, 139, 142],\n",
              "        [ 22,  21,  20, ..., 162, 152, 151]]], dtype=uint8)"
            ]
          },
          "metadata": {},
          "execution_count": 15
        }
      ],
      "source": [
        "X[0]"
      ]
    },
    {
      "cell_type": "code",
      "execution_count": null,
      "metadata": {
        "colab": {
          "base_uri": "https://localhost:8080/"
        },
        "id": "VJ6S64zA_6RM",
        "outputId": "714b88da-7740-4d29-c956-a0b89e7d2c97"
      },
      "outputs": [
        {
          "output_type": "execute_result",
          "data": {
            "text/plain": [
              "numpy.ndarray"
            ]
          },
          "metadata": {},
          "execution_count": 16
        }
      ],
      "source": [
        "type(X)"
      ]
    },
    {
      "cell_type": "code",
      "execution_count": null,
      "metadata": {
        "colab": {
          "base_uri": "https://localhost:8080/"
        },
        "id": "_g2yF_T2CI89",
        "outputId": "fbd9cf84-27f1-42f5-8358-3880d572c8e3"
      },
      "outputs": [
        {
          "output_type": "execute_result",
          "data": {
            "text/plain": [
              "array([[[0.65882353, 0.64705882, 0.66666667, ..., 0.        ,\n",
              "         0.01568627, 0.        ],\n",
              "        [0.68235294, 0.6745098 , 0.67843137, ..., 0.        ,\n",
              "         0.01568627, 0.01960784],\n",
              "        [0.69411765, 0.68235294, 0.6745098 , ..., 0.        ,\n",
              "         0.00784314, 0.02352941],\n",
              "        ...,\n",
              "        [0.0745098 , 0.07058824, 0.06666667, ..., 0.48235294,\n",
              "         0.5254902 , 0.56078431],\n",
              "        [0.08235294, 0.07843137, 0.07058824, ..., 0.54117647,\n",
              "         0.54509804, 0.55686275],\n",
              "        [0.08627451, 0.08235294, 0.07843137, ..., 0.63529412,\n",
              "         0.59607843, 0.59215686]]])"
            ]
          },
          "metadata": {},
          "execution_count": 17
        }
      ],
      "source": [
        "X = X/255.0\n",
        "X[0]"
      ]
    },
    {
      "cell_type": "code",
      "execution_count": null,
      "metadata": {
        "colab": {
          "base_uri": "https://localhost:8080/"
        },
        "id": "fqTX2uLDCI_f",
        "outputId": "2bba2821-e52a-4ccb-ec14-c461e1a71b28"
      },
      "outputs": [
        {
          "output_type": "stream",
          "name": "stdout",
          "text": [
            "[8 8 8 ... 3 3 3]\n"
          ]
        }
      ],
      "source": [
        "# setting labels\n",
        "\n",
        "label_age = np.array(df['age_target'])\n",
        "label_gender = np.array(df['gender'])\n",
        "image = df['image']\n",
        "print(label_age)"
      ]
    },
    {
      "cell_type": "code",
      "execution_count": null,
      "metadata": {
        "colab": {
          "base_uri": "https://localhost:8080/",
          "height": 300
        },
        "id": "GfvG1O7ZCJCV",
        "outputId": "88690c75-533d-4a1a-e220-4ee104eb04dd"
      },
      "outputs": [
        {
          "name": "stdout",
          "output_type": "stream",
          "text": [
            "age:  70\n",
            "age_target:  10\n",
            "gender:  0\n"
          ]
        },
        {
          "data": {
            "image/png": "[encoded data removed]",
            "text/plain": [
              "<Figure size 432x288 with 1 Axes>"
            ]
          },
          "metadata": {},
          "output_type": "display_data"
        }
      ],
      "source": [
        "from PIL import Image\n",
        "img = Image.open(image[190])\n",
        "plt.axis('off')\n",
        "plt.imshow(img)\n",
        "\n",
        "width, height = img.size\n",
        "#print(\"height:\", height)\n",
        "#print(\"width:\", width)\n",
        "print(\"age: \",df['age'][190])\n",
        "print(\"age_target: \",df['age_target'][190])\n",
        "print(\"gender: \",df['gender'][190])"
      ]
    },
    {
      "cell_type": "code",
      "execution_count": null,
      "metadata": {
        "colab": {
          "base_uri": "https://localhost:8080/"
        },
        "id": "kY8MflS4CJE1",
        "outputId": "93dfbaba-aea4-4314-ac79-d59bba34fb15"
      },
      "outputs": [
        {
          "output_type": "execute_result",
          "data": {
            "text/plain": [
              "(10497,)"
            ]
          },
          "metadata": {},
          "execution_count": 19
        }
      ],
      "source": [
        "image.shape"
      ]
    },
    {
      "cell_type": "code",
      "execution_count": null,
      "metadata": {
        "id": "5GLxfelkCJHe"
      },
      "outputs": [],
      "source": [
        "X_train, X_test, y_age_train, y_age_test, y_gender_train, y_gender_test = train_test_split(X, label_age, label_gender, test_size=0.2)"
      ]
    },
    {
      "cell_type": "code",
      "execution_count": null,
      "metadata": {
        "colab": {
          "base_uri": "https://localhost:8080/"
        },
        "id": "YpospTnCCJJo",
        "outputId": "2f708d99-baa5-4ac2-e66b-b9fc85e3e9b6"
      },
      "outputs": [
        {
          "output_type": "stream",
          "name": "stdout",
          "text": [
            "[0 0 0 ... 0 1 1]\n",
            "[5 4 0 ... 5 4 4]\n"
          ]
        }
      ],
      "source": [
        "print(y_gender_train)\n",
        "print(y_age_train)"
      ]
    },
    {
      "cell_type": "code",
      "execution_count": null,
      "metadata": {
        "colab": {
          "base_uri": "https://localhost:8080/"
        },
        "id": "uhOkhIcQCJND",
        "outputId": "ac32e37f-930e-42f9-d9ad-7f00c0ca4c38"
      },
      "outputs": [
        {
          "output_type": "stream",
          "name": "stdout",
          "text": [
            "(8397,)\n",
            "(8397,)\n",
            "(2100,)\n",
            "(2100,)\n",
            "<class 'numpy.ndarray'>\n",
            "<class 'numpy.ndarray'>\n",
            "<class 'numpy.ndarray'>\n",
            "<class 'numpy.ndarray'>\n"
          ]
        }
      ],
      "source": [
        "y_age_train = np.array(y_age_train)\n",
        "y_gender_train = np.array(y_gender_train)\n",
        "y_age_test = np.array(y_age_test)\n",
        "y_gender_test = np.array(y_gender_test)\n",
        "\n",
        "print(y_age_train.shape)\n",
        "print(y_gender_train.shape)\n",
        "print(y_age_test.shape)\n",
        "print(y_gender_test.shape)\n",
        "\n",
        "print(type(y_age_train))\n",
        "print(type(y_gender_train))\n",
        "print(type(y_age_test))\n",
        "print(type(y_gender_test))"
      ]
    },
    {
      "cell_type": "code",
      "execution_count": null,
      "metadata": {
        "colab": {
          "base_uri": "https://localhost:8080/"
        },
        "id": "oc3CXDv1CX4L",
        "outputId": "6deb47d0-31a3-4dd5-dc26-2c473c8fda62"
      },
      "outputs": [
        {
          "output_type": "stream",
          "name": "stdout",
          "text": [
            "X_train tensor :  torch.Size([8397, 1, 128, 128])\n",
            "X_test tensor :  torch.Size([2100, 1, 128, 128])\n",
            "y_age_train tensor :  torch.Size([8397])\n",
            "y_gender_train tensor :  torch.Size([8397])\n",
            "y_age_test tensor :  torch.Size([2100])\n",
            "y_gender_test tensor :  torch.Size([2100])\n"
          ]
        }
      ],
      "source": [
        "''' X_train, X_test, y_age_train, y_age_test, y_gender_train, y_gender_test '''\n",
        "X_train_tensor = torch.from_numpy(X_train)\n",
        "print(\"X_train tensor : \", X_train_tensor.size())\n",
        "\n",
        "X_test_tensor = torch.from_numpy(X_test)\n",
        "print(\"X_test tensor : \", X_test_tensor.size())\n",
        "\n",
        "y_age_train_tensor = torch.from_numpy(y_age_train)\n",
        "print(\"y_age_train tensor : \", y_age_train_tensor.size())\n",
        "\n",
        "y_gender_train_tensor = torch.from_numpy(y_gender_train)\n",
        "print(\"y_gender_train tensor : \", y_gender_train_tensor.size())\n",
        "\n",
        "y_age_test_tensor = torch.from_numpy(y_age_test)\n",
        "print(\"y_age_test tensor : \", y_age_test_tensor.size())\n",
        "\n",
        "y_gender_test_tensor = torch.from_numpy(y_gender_test)\n",
        "print(\"y_gender_test tensor : \", y_gender_test_tensor.size())"
      ]
    },
    {
      "cell_type": "code",
      "execution_count": null,
      "metadata": {
        "id": "HVCyA1F2CX6f"
      },
      "outputs": [],
      "source": [
        "train = torch.utils.data.TensorDataset(X_train_tensor, y_age_train_tensor, y_gender_train_tensor)\n",
        "\n",
        "test = torch.utils.data.TensorDataset(X_test_tensor, y_age_test_tensor, y_gender_test_tensor)"
      ]
    },
    {
      "cell_type": "code",
      "execution_count": null,
      "metadata": {
        "id": "bO0FL5FpCX8k"
      },
      "outputs": [],
      "source": [
        "train_dataloader = torch.utils.data.DataLoader(train, batch_size = 50, shuffle=True, num_workers=4)\n",
        "test_dataloader = torch.utils.data.DataLoader(test, batch_size = 50, shuffle=True, num_workers=4)"
      ]
    },
    {
      "cell_type": "code",
      "execution_count": null,
      "metadata": {
        "id": "U17NSP5uCX-6"
      },
      "outputs": [],
      "source": [
        "# Building Model\n",
        "\n",
        "import torch.nn as nn\n",
        "import torch.nn.functional as F\n",
        "\n",
        "class Net(nn.Module):\n",
        "    def __init__(self):\n",
        "        super(Net, self).__init__()\n",
        "\n",
        "        self.conv1 = nn.Conv2d(in_channels = 1, out_channels = 32, kernel_size = 3, padding=1, stride=1)\n",
        "        self.relu = nn.ReLU()\n",
        "        self.maxpool = nn.MaxPool2d(kernel_size = 2)\n",
        "\n",
        "\n",
        "        self.conv2 = nn.Conv2d(in_channels = 32, out_channels = 64, kernel_size = 3, padding=1, stride=1)\n",
        "\n",
        "        self.conv3 = nn.Conv2d(in_channels = 64, out_channels = 128, kernel_size = 3, padding=1, stride=1)\n",
        "\n",
        "        self.conv4 = nn.Conv2d(in_channels = 128, out_channels = 256, kernel_size = 3, padding=1, stride=1)\n",
        "\n",
        "        #nn.Flatten()\n",
        "\n",
        "        self.fc1 = nn.Linear(in_features = 256*8*8, out_features = 8192)\n",
        "\n",
        "        self.fc2 = nn.Linear(in_features = 8192, out_features = 512)\n",
        "\n",
        "        self.linear1 = nn.Linear(in_features = 512, out_features = 13) # For age class output\n",
        "        self.linear2 = nn.Linear(in_features = 512, out_features = 2)   # For gender class output\n",
        "\n",
        "    def forward(self, x):\n",
        "        out = self.conv1(x)\n",
        "        out = self.relu(out)\n",
        "        out = self.maxpool(out)\n",
        "\n",
        "        out = self.conv2(out)\n",
        "        out = self.relu(out)\n",
        "        out = self.maxpool(out)\n",
        "\n",
        "        out = self.conv3(out)\n",
        "        out = self.relu(out)\n",
        "        out = self.maxpool(out)\n",
        "\n",
        "        out = self.conv4(out)\n",
        "        out = self.relu(out)\n",
        "        out = self.maxpool(out)\n",
        "\n",
        "        #print(out.shape)\n",
        "        out = out.view(x.size(0),-1)\n",
        "        out = F.relu(self.fc1(out))\n",
        "        out = F.relu(self.fc2(out))\n",
        "        label1 = self.linear1(out)                 # Age output\n",
        "        label2 = self.linear2(out) # Gender output\n",
        "\n",
        "        return {'label1': torch.softmax(label1,dim=1), 'label2': label2}"
      ]
    },
    {
      "cell_type": "code",
      "execution_count": null,
      "metadata": {
        "colab": {
          "base_uri": "https://localhost:8080/"
        },
        "id": "4Z7cBtcjCYBU",
        "outputId": "80bb4d07-d2e5-4417-bc62-87026807245b"
      },
      "outputs": [
        {
          "output_type": "execute_result",
          "data": {
            "text/plain": [
              "device(type='cpu')"
            ]
          },
          "metadata": {},
          "execution_count": 27
        }
      ],
      "source": [
        "device = torch.device(\"cuda:0\" if torch.cuda.is_available() else \"cpu\")\n",
        "device"
      ]
    },
    {
      "cell_type": "code",
      "execution_count": null,
      "metadata": {
        "colab": {
          "base_uri": "https://localhost:8080/"
        },
        "id": "P8saNc0gCYDY",
        "outputId": "bffd2e42-5078-42e8-b655-3ceccb78d0cb"
      },
      "outputs": [
        {
          "output_type": "execute_result",
          "data": {
            "text/plain": [
              "Net(\n",
              "  (conv1): Conv2d(1, 32, kernel_size=(3, 3), stride=(1, 1), padding=(1, 1))\n",
              "  (relu): ReLU()\n",
              "  (maxpool): MaxPool2d(kernel_size=2, stride=2, padding=0, dilation=1, ceil_mode=False)\n",
              "  (conv2): Conv2d(32, 64, kernel_size=(3, 3), stride=(1, 1), padding=(1, 1))\n",
              "  (conv3): Conv2d(64, 128, kernel_size=(3, 3), stride=(1, 1), padding=(1, 1))\n",
              "  (conv4): Conv2d(128, 256, kernel_size=(3, 3), stride=(1, 1), padding=(1, 1))\n",
              "  (fc1): Linear(in_features=16384, out_features=8192, bias=True)\n",
              "  (fc2): Linear(in_features=8192, out_features=512, bias=True)\n",
              "  (linear1): Linear(in_features=512, out_features=13, bias=True)\n",
              "  (linear2): Linear(in_features=512, out_features=2, bias=True)\n",
              ")"
            ]
          },
          "metadata": {},
          "execution_count": 28
        }
      ],
      "source": [
        "#net = Net(True).to(device)\n",
        "net = Net()\n",
        "#from torchsummary import summary\n",
        "#net.summary()\n",
        "#summary(net, (1, 128, 128))\n",
        "# if torch.cuda.is_available():\n",
        "#   net.cuda()\n",
        "net"
      ]
    },
    {
      "cell_type": "code",
      "execution_count": null,
      "metadata": {
        "id": "O_XJA1g9CYGx"
      },
      "outputs": [],
      "source": [
        "training_loss_list = []\n",
        "iter_list=[]\n",
        "\n",
        "def train(net, device, criterion1, criterion2, train_dataloader, optimizer, epoch):\n",
        "  # Set the model to training mode\n",
        "  net.train()\n",
        "  train_loss = 0\n",
        "  print(\"Epoch:\", epoch)\n",
        "\n",
        "  # Process the images in batches\n",
        "  for batch_idx, (data, target1, target2) in enumerate(train_dataloader):\n",
        "    data, target1, target2 = data.to(device), target1.to(device), target2.to(device)\n",
        "\n",
        "    # label1_new = torch.zeros((target1.shape[0], 116))\n",
        "    # label2_new = torch.zeros((target2.shape[0], 2))\n",
        "    # for t in range(label1_new.shape[0]):\n",
        "    #   label1_new[t,target1[t].data-1] = 1.0\n",
        "    # for t in range(label2_new.shape[0]):\n",
        "    #   label2_new[t,target2[t].data-1] = 1.0\n",
        "\n",
        "    # Reset the optimizer\n",
        "    optimizer.zero_grad()\n",
        "\n",
        "    #Push the data forward through the model layer\n",
        "    output = net(data.float())\n",
        "\n",
        "    label1_hat = output['label1']\n",
        "    label2_hat = output['label2']\n",
        "\n",
        "    # Get the loss\n",
        "    loss1 = criterion1(label1_hat, target1)\n",
        "    loss2 = criterion2(label2_hat, target2)\n",
        "    loss = loss1 + loss2\n",
        "\n",
        "    # Backpropagate\n",
        "    loss.backward()\n",
        "    optimizer.step()\n",
        "\n",
        "    train_loss = train_loss + ((1 / (batch_idx + 1)) * (loss.data - train_loss))\n",
        "    if batch_idx % 50 == 0:\n",
        "      print('Epoch %d, Batch %d loss: %.6f' % (epoch, batch_idx + 1, train_loss))\n",
        "\n",
        "  # return average loss for the epoch\n",
        "  #avg_loss = train_loss / (batch_idx + 1)\n",
        "  iter_list.append(epoch)\n",
        "  training_loss_list.append(train_loss)\n",
        "  print('Training set: Average loss: {:.6f}'.format(train_loss))\n",
        "  return train_loss"
      ]
    },
    {
      "cell_type": "code",
      "execution_count": null,
      "metadata": {
        "id": "qU6P3sS5CrK0"
      },
      "outputs": [],
      "source": [
        "age_accuracy_list = []\n",
        "gender_accuracy_list = []\n",
        "validation_loss_list=[]\n",
        "\n",
        "def test(net, device, criterion1, criterion2, test_dataloader, optimizer, epoch):\n",
        "\n",
        "  # Switch the model to evaluation mode\n",
        "  net.eval()\n",
        "  correct_1 = 0\n",
        "  correct_2 = 0\n",
        "  total_1 = 0\n",
        "  total_2 = 0\n",
        "  valid_loss = 0\n",
        "\n",
        "  with torch.no_grad():\n",
        "\n",
        "    for batch_idx, (data, target1, target2) in enumerate(test_dataloader):\n",
        "      data, target1, target2 = data.to(device), target1.to(device), target2.to(device)\n",
        "\n",
        "      # label1_new = torch.zeros((target1.shape[0], 116))\n",
        "      # label2_new = torch.zeros((target2.shape[0], 2))\n",
        "      # for t in range(label1_new.shape[0]):\n",
        "      #   label1_new[t,target1[t].data-1] = 1.0\n",
        "      # for t in range(label2_new.shape[0]):\n",
        "      #   label2_new[t,target2[t].data-1] = 1.0\n",
        "\n",
        "      data = data.requires_grad_()  # Load images(for accuracy)\n",
        "      output = net(data.float())\n",
        "\n",
        "      _, predicted1 = torch.max(output['label1'], 1)\n",
        "      _, predicted2 = torch.max(output['label2'], 1)\n",
        "\n",
        "      label1_hat = output['label1']\n",
        "      label2_hat = output['label2']\n",
        "\n",
        "      total_1 += target1.size(0)\n",
        "      total_2 += target2.size(0)\n",
        "\n",
        "      correct_1 += torch.sum(predicted1 == target1).item()\n",
        "      correct_2 += torch.sum(predicted2 == target2).item()\n",
        "\n",
        "      age_accuracy = 100 * correct_1 // total_1\n",
        "      gender_accuracy = 100 * correct_2 // total_2\n",
        "\n",
        "      # calculate loss\n",
        "      loss1 = criterion1(label1_hat, target1)\n",
        "      loss2 = criterion2(label2_hat, target2)\n",
        "      loss = loss1+loss2\n",
        "      valid_loss = valid_loss + ((1 / (batch_idx + 1)) * (loss.data - valid_loss))\n",
        "\n",
        "    print('Epoch: {} \\tTraining Loss: {:.6f} \\tValidation Loss: {:.6f} \\tAge_Accuracy: {} \\tGender_Accuracy: {}'.format(\n",
        "            epoch, train_loss, valid_loss, age_accuracy, gender_accuracy))\n",
        "    age_accuracy_list.append(age_accuracy)\n",
        "    gender_accuracy_list.append(gender_accuracy)\n",
        "    validation_loss_list.append(valid_loss)\n",
        "    return valid_loss, age_accuracy, gender_accuracy"
      ]
    },
    {
      "cell_type": "code",
      "execution_count": null,
      "metadata": {
        "colab": {
          "base_uri": "https://localhost:8080/"
        },
        "id": "OLqNdPkVCrNu",
        "outputId": "68220dc1-4886-4cc1-bdf7-8f7bdfab8c36"
      },
      "outputs": [
        {
          "metadata": {
            "tags": null
          },
          "name": "stdout",
          "output_type": "stream",
          "text": [
            "Training on cpu\n",
            "Epoch: 1\n",
            "Epoch 1, Batch 1 loss: 3.254660\n",
            "Epoch 1, Batch 51 loss: 3.149797\n",
            "Epoch 1, Batch 101 loss: 3.092356\n",
            "Epoch 1, Batch 151 loss: 3.048295\n",
            "Training set: Average loss: 3.033094\n",
            "Epoch: 1 \tTraining Loss: 3.033094 \tValidation Loss: 2.828382 \tAge_Accuracy: 40 \tGender_Accuracy: 73\n",
            "Epoch: 2\n",
            "Epoch 2, Batch 1 loss: 2.705379\n",
            "Epoch 2, Batch 51 loss: 2.828259\n",
            "Epoch 2, Batch 101 loss: 2.791880\n",
            "Epoch 2, Batch 151 loss: 2.775067\n",
            "Training set: Average loss: 2.775139\n",
            "Epoch: 2 \tTraining Loss: 2.775139 \tValidation Loss: 2.742459 \tAge_Accuracy: 41 \tGender_Accuracy: 77\n",
            "Epoch: 3\n",
            "Epoch 3, Batch 1 loss: 2.696691\n",
            "Epoch 3, Batch 51 loss: 2.668281\n",
            "Epoch 3, Batch 101 loss: 2.667477\n",
            "Epoch 3, Batch 151 loss: 2.648415\n",
            "Training set: Average loss: 2.645284\n",
            "Epoch: 3 \tTraining Loss: 2.645284 \tValidation Loss: 2.576792 \tAge_Accuracy: 44 \tGender_Accuracy: 84\n",
            "Epoch: 4\n",
            "Epoch 4, Batch 1 loss: 2.609767\n",
            "Epoch 4, Batch 51 loss: 2.582129\n",
            "Epoch 4, Batch 101 loss: 2.590249\n",
            "Epoch 4, Batch 151 loss: 2.593665\n",
            "Training set: Average loss: 2.589535\n",
            "Epoch: 4 \tTraining Loss: 2.589535 \tValidation Loss: 2.560116 \tAge_Accuracy: 44 \tGender_Accuracy: 86\n",
            "Epoch: 5\n",
            "Epoch 5, Batch 1 loss: 2.544441\n",
            "Epoch 5, Batch 51 loss: 2.557605\n",
            "Epoch 5, Batch 101 loss: 2.553718\n",
            "Epoch 5, Batch 151 loss: 2.549324\n",
            "Training set: Average loss: 2.548387\n",
            "Epoch: 5 \tTraining Loss: 2.548387 \tValidation Loss: 2.536669 \tAge_Accuracy: 45 \tGender_Accuracy: 86\n",
            "Epoch: 6\n",
            "Epoch 6, Batch 1 loss: 2.605857\n",
            "Epoch 6, Batch 51 loss: 2.525764\n",
            "Epoch 6, Batch 101 loss: 2.516435\n",
            "Epoch 6, Batch 151 loss: 2.520306\n",
            "Training set: Average loss: 2.521260\n",
            "Epoch: 6 \tTraining Loss: 2.521260 \tValidation Loss: 2.510110 \tAge_Accuracy: 46 \tGender_Accuracy: 87\n",
            "Epoch: 7\n",
            "Epoch 7, Batch 1 loss: 2.612430\n",
            "Epoch 7, Batch 51 loss: 2.517556\n",
            "Epoch 7, Batch 101 loss: 2.506294\n",
            "Epoch 7, Batch 151 loss: 2.490160\n",
            "Training set: Average loss: 2.489824\n",
            "Epoch: 7 \tTraining Loss: 2.489824 \tValidation Loss: 2.517106 \tAge_Accuracy: 45 \tGender_Accuracy: 87\n",
            "Epoch: 8\n",
            "Epoch 8, Batch 1 loss: 2.401742\n",
            "Epoch 8, Batch 51 loss: 2.465734\n",
            "Epoch 8, Batch 101 loss: 2.461218\n",
            "Epoch 8, Batch 151 loss: 2.457634\n",
            "Training set: Average loss: 2.449896\n",
            "Epoch: 8 \tTraining Loss: 2.449896 \tValidation Loss: 2.533155 \tAge_Accuracy: 46 \tGender_Accuracy: 88\n",
            "Epoch: 9\n",
            "Epoch 9, Batch 1 loss: 2.553440\n",
            "Epoch 9, Batch 51 loss: 2.418468\n",
            "Epoch 9, Batch 101 loss: 2.409504\n",
            "Epoch 9, Batch 151 loss: 2.410842\n",
            "Training set: Average loss: 2.413096\n",
            "Epoch: 9 \tTraining Loss: 2.413096 \tValidation Loss: 2.503656 \tAge_Accuracy: 47 \tGender_Accuracy: 87\n",
            "Epoch: 10\n",
            "Epoch 10, Batch 1 loss: 2.278274\n",
            "Epoch 10, Batch 51 loss: 2.333783\n",
            "Epoch 10, Batch 101 loss: 2.361249\n",
            "Epoch 10, Batch 151 loss: 2.367581\n",
            "Training set: Average loss: 2.370816\n",
            "Epoch: 10 \tTraining Loss: 2.370816 \tValidation Loss: 2.506757 \tAge_Accuracy: 47 \tGender_Accuracy: 88\n",
            "Epoch: 11\n",
            "Epoch 11, Batch 1 loss: 2.324913\n",
            "Epoch 11, Batch 51 loss: 2.324399\n",
            "Epoch 11, Batch 101 loss: 2.317976\n",
            "Epoch 11, Batch 151 loss: 2.327400\n",
            "Training set: Average loss: 2.328642\n",
            "Epoch: 11 \tTraining Loss: 2.328642 \tValidation Loss: 2.549022 \tAge_Accuracy: 49 \tGender_Accuracy: 87\n",
            "Epoch: 12\n",
            "Epoch 12, Batch 1 loss: 2.251838\n",
            "Epoch 12, Batch 51 loss: 2.254867\n",
            "Epoch 12, Batch 101 loss: 2.291692\n",
            "Epoch 12, Batch 151 loss: 2.287005\n",
            "Training set: Average loss: 2.286702\n",
            "Epoch: 12 \tTraining Loss: 2.286702 \tValidation Loss: 2.586974 \tAge_Accuracy: 48 \tGender_Accuracy: 87\n",
            "Epoch: 13\n",
            "Epoch 13, Batch 1 loss: 2.411824\n",
            "Epoch 13, Batch 51 loss: 2.217073\n",
            "Epoch 13, Batch 101 loss: 2.237370\n",
            "Epoch 13, Batch 151 loss: 2.238024\n",
            "Training set: Average loss: 2.239295\n",
            "Epoch: 13 \tTraining Loss: 2.239295 \tValidation Loss: 2.647179 \tAge_Accuracy: 49 \tGender_Accuracy: 88\n",
            "Epoch: 14\n",
            "Epoch 14, Batch 1 loss: 2.169528\n",
            "Epoch 14, Batch 51 loss: 2.197988\n",
            "Epoch 14, Batch 101 loss: 2.211292\n",
            "Epoch 14, Batch 151 loss: 2.217025\n",
            "Training set: Average loss: 2.216944\n",
            "Epoch: 14 \tTraining Loss: 2.216944 \tValidation Loss: 2.672633 \tAge_Accuracy: 48 \tGender_Accuracy: 88\n",
            "Epoch: 15\n",
            "Epoch 15, Batch 1 loss: 2.264847\n",
            "Epoch 15, Batch 51 loss: 2.187977\n",
            "Epoch 15, Batch 101 loss: 2.180363\n",
            "Epoch 15, Batch 151 loss: 2.184436\n",
            "Training set: Average loss: 2.189154\n",
            "Epoch: 15 \tTraining Loss: 2.189154 \tValidation Loss: 2.681335 \tAge_Accuracy: 48 \tGender_Accuracy: 87\n",
            "Epoch: 16\n",
            "Epoch 16, Batch 1 loss: 2.189578\n",
            "Epoch 16, Batch 51 loss: 2.177826\n",
            "Epoch 16, Batch 101 loss: 2.173258\n",
            "Epoch 16, Batch 151 loss: 2.174721\n",
            "Training set: Average loss: 2.174181\n",
            "Epoch: 16 \tTraining Loss: 2.174181 \tValidation Loss: 2.758361 \tAge_Accuracy: 48 \tGender_Accuracy: 87\n",
            "Epoch: 17\n",
            "Epoch 17, Batch 1 loss: 2.104954\n",
            "Epoch 17, Batch 51 loss: 2.134389\n",
            "Epoch 17, Batch 101 loss: 2.143877\n",
            "Epoch 17, Batch 151 loss: 2.142492\n",
            "Training set: Average loss: 2.148645\n",
            "Epoch: 17 \tTraining Loss: 2.148645 \tValidation Loss: 2.735427 \tAge_Accuracy: 50 \tGender_Accuracy: 87\n",
            "Epoch: 18\n",
            "Epoch 18, Batch 1 loss: 2.004773\n",
            "Epoch 18, Batch 51 loss: 2.113972\n",
            "Epoch 18, Batch 101 loss: 2.119272\n",
            "Epoch 18, Batch 151 loss: 2.120227\n",
            "Training set: Average loss: 2.123414\n",
            "Epoch: 18 \tTraining Loss: 2.123414 \tValidation Loss: 2.897316 \tAge_Accuracy: 48 \tGender_Accuracy: 88\n",
            "Epoch: 19\n",
            "Epoch 19, Batch 1 loss: 2.121211\n",
            "Epoch 19, Batch 51 loss: 2.125702\n",
            "Epoch 19, Batch 101 loss: 2.122161\n"
          ]
        }
      ],
      "source": [
        "import torch.optim as optim\n",
        "\n",
        "# For multilabel output:Age\n",
        "criterion_multioutput = nn.CrossEntropyLoss()\n",
        "\n",
        "# For binary output:Gender\n",
        "criterion_binary = nn.CrossEntropyLoss()\n",
        "\n",
        "optimizer = optim.Adam(net.parameters(), lr=0.001)\n",
        "\n",
        "epochs = 20\n",
        "print('Training on', device)\n",
        "\n",
        "for epoch in range(1, epochs + 1):\n",
        "  train_loss = train(net, device, criterion_multioutput, criterion_binary, train_dataloader, optimizer, epoch)\n",
        "  valid_loss = test(net, device, criterion_multioutput, criterion_binary, test_dataloader, optimizer, epoch)"
      ]
    },
    {
      "cell_type": "code",
      "execution_count": null,
      "metadata": {
        "colab": {
          "base_uri": "https://localhost:8080/",
          "height": 316
        },
        "id": "81n5V6tkCrQO",
        "outputId": "129db4f6-afc4-4745-a6bb-a7bc56abf1e3"
      },
      "outputs": [
        {
          "output_type": "execute_result",
          "data": {
            "text/plain": [
              "<Figure size 432x288 with 0 Axes>"
            ]
          },
          "metadata": {},
          "execution_count": 2
        },
        {
          "output_type": "display_data",
          "data": {
            "text/plain": [
              "<Figure size 432x288 with 1 Axes>"
            ],
            "image/png": "[encoded data removed]"
          },
          "metadata": {
            "needs_background": "light"
          }
        },
        {
          "output_type": "display_data",
          "data": {
            "text/plain": [
              "<Figure size 432x288 with 0 Axes>"
            ]
          },
          "metadata": {}
        }
      ],
      "source": [
        "## Training_Loss Vs validation_loss\n",
        "\n",
        "%matplotlib inline\n",
        "import matplotlib.pyplot as plt\n",
        "\n",
        "validation_loss_list = [2.828382, 2.742459,2.576792,2.560116,2.536669,2.51011,2.517106,2.533155,2.503656,2.506757,2.549022,2.586974,2.647179,2.672633,2.681335,2.758361,2.735427,2.897316]\n",
        "training_loss_list = [3.033094,2.775139,2.645284,2.589535,2.548387,2.52126,2.489824, 2.449896,2.413096,2.370816,2.328642,2.286702,2.239295,2.216944,2.189154,2.174181,2.148645,2.123414]\n",
        "iteration = [1,2,3,4,5,6,7,8,9,10,11,12,13,14,15,16,17,18]\n",
        "\n",
        "plt.plot(iteration, training_loss_list, 'r', label='Training_Loss', marker = \"o\")\n",
        "plt.plot(iteration, validation_loss_list, 'b', label='Validation_Loss', marker = \"o\")\n",
        "plt.title('Training_Loss Vs validation_loss')\n",
        "plt.legend()\n",
        "plt.figure()"
      ]
    },
    {
      "cell_type": "code",
      "execution_count": null,
      "metadata": {
        "colab": {
          "base_uri": "https://localhost:8080/",
          "height": 316
        },
        "id": "Tp77JAI3CrSs",
        "outputId": "96821fc2-10b2-4efa-b722-3833b7da8f70"
      },
      "outputs": [
        {
          "output_type": "execute_result",
          "data": {
            "text/plain": [
              "<Figure size 432x288 with 0 Axes>"
            ]
          },
          "metadata": {},
          "execution_count": 3
        },
        {
          "output_type": "display_data",
          "data": {
            "text/plain": [
              "<Figure size 432x288 with 1 Axes>"
            ],
            "image/png": "[encoded data removed]"
          },
          "metadata": {
            "needs_background": "light"
          }
        },
        {
          "output_type": "display_data",
          "data": {
            "text/plain": [
              "<Figure size 432x288 with 0 Axes>"
            ]
          },
          "metadata": {}
        }
      ],
      "source": [
        "## age_accuracy graph\n",
        "\n",
        "%matplotlib inline\n",
        "age_accuracy = [40,41,44,44,45,46,45,46,47,47,49,48,49,48,48,48,50,48]\n",
        "iteration = [1,2,3,4,5,6,7,8,9,10,11,12,13,14,15,16,17,18]\n",
        "\n",
        "plt.plot(iteration, age_accuracy, 'r', label='age_accuracy', marker = \"o\")\n",
        "plt.title('age_accuracy graph')\n",
        "plt.legend()\n",
        "plt.figure()"
      ]
    },
    {
      "cell_type": "code",
      "execution_count": null,
      "metadata": {
        "colab": {
          "base_uri": "https://localhost:8080/",
          "height": 316
        },
        "id": "PW5R2tVyCrVG",
        "outputId": "ac2fee08-bd53-47f3-ca4e-d2ebc0595575"
      },
      "outputs": [
        {
          "output_type": "execute_result",
          "data": {
            "text/plain": [
              "<Figure size 432x288 with 0 Axes>"
            ]
          },
          "metadata": {},
          "execution_count": 4
        },
        {
          "output_type": "display_data",
          "data": {
            "text/plain": [
              "<Figure size 432x288 with 1 Axes>"
            ],
            "image/png": "[encoded data removed]"
          },
          "metadata": {
            "needs_background": "light"
          }
        },
        {
          "output_type": "display_data",
          "data": {
            "text/plain": [
              "<Figure size 432x288 with 0 Axes>"
            ]
          },
          "metadata": {}
        }
      ],
      "source": [
        "## gender_accuracy graph\n",
        "\n",
        "%matplotlib inline\n",
        "gender_accuracy = [73,77,84,86,86,87,87,88,87,88,87,87,88,88,87,87,87,88]\n",
        "iteration = [1,2,3,4,5,6,7,8,9,10,11,12,13,14,15,16,17,18]\n",
        "\n",
        "plt.plot(iteration, gender_accuracy, 'g', label='gender_accuracy', marker = \"*\")\n",
        "plt.title('gender_accuracy graph')\n",
        "plt.legend()\n",
        "plt.figure()"
      ]
    },
    {
      "cell_type": "code",
      "execution_count": null,
      "metadata": {
        "colab": {
          "base_uri": "https://localhost:8080/"
        },
        "id": "QMz0cxV7CrXX",
        "outputId": "b48f070d-9314-4ea3-85f8-781eff940c48"
      },
      "outputs": [
        {
          "output_type": "stream",
          "name": "stdout",
          "text": [
            "Looking in indexes: https://pypi.org/simple, https://us-python.pkg.dev/colab-wheels/public/simple/\n",
            "Collecting xlsxwriter\n",
            "  Downloading XlsxWriter-3.0.8-py3-none-any.whl (152 kB)\n",
            "\u001b[2K     \u001b[90m━━━━━━━━━━━━━━━━━━━━━━━━━━━━━━━━━━━━━━━\u001b[0m \u001b[32m152.8/152.8 KB\u001b[0m \u001b[31m4.2 MB/s\u001b[0m eta \u001b[36m0:00:00\u001b[0m\n",
            "\u001b[?25hInstalling collected packages: xlsxwriter\n",
            "Successfully installed xlsxwriter-3.0.8\n"
          ]
        }
      ],
      "source": [
        "!pip install xlsxwriter"
      ]
    },
    {
      "cell_type": "code",
      "execution_count": null,
      "metadata": {
        "id": "BcA62IiNCrZi"
      },
      "outputs": [],
      "source": [
        "import xlsxwriter\n",
        "\n",
        "\n",
        "#wb = Workbook()\n",
        "test_filename = 'test_workbook.xlsx'\n",
        "\n",
        "workbook = xlsxwriter.Workbook('/content/drive//MyDrive/Age N Gender Prediction_11_2_23.xlsx')\n",
        "#wb.save('/content/drive/MyDrive/+test_filename')\n",
        "\n",
        "worksheet = workbook.add_worksheet(\"9_2_23_v2\")\n",
        "\n",
        "worksheet.write('A1','Epochs')\n",
        "row = 1\n",
        "column = 0\n",
        "for item in iter_list:\n",
        "    worksheet.write(row, column, item)\n",
        "    row += 1\n",
        "\n",
        "worksheet.write('B1','Training Loss')\n",
        "row = 1\n",
        "column = 1\n",
        "for item in training_loss_list:\n",
        "    worksheet.write(row, column, item)\n",
        "    row += 1\n",
        "\n",
        "worksheet.write('C1','Validation Loss')\n",
        "row = 1\n",
        "column = 2\n",
        "for item in validation_loss_list:\n",
        "    worksheet.write(row, column, item)\n",
        "    row += 1\n",
        "\n",
        "worksheet.write('D1','Age Accuracy')\n",
        "row = 1\n",
        "column = 3\n",
        "for item in age_accuracy_list:\n",
        "    worksheet.write(row, column, item)\n",
        "    row += 1\n",
        "\n",
        "worksheet.write('E1','Gender Accuracy')\n",
        "row = 1\n",
        "column = 4\n",
        "for item in gender_accuracy_list:\n",
        "    worksheet.write(row, column, item)\n",
        "    row += 1\n",
        "\n",
        "workbook.close()"
      ]
    },
    {
      "cell_type": "code",
      "execution_count": null,
      "metadata": {
        "id": "_0qQlGZvCrc5"
      },
      "outputs": [],
      "source": []
    }
  ],
  "metadata": {
    "colab": {
      "provenance": []
    },
    "gpuClass": "standard",
    "kernelspec": {
      "display_name": "Python 3",
      "name": "python3"
    },
    "language_info": {
      "name": "python"
    },
    "widgets": {
      "application/vnd.jupyter.widget-state+json": {
        "f0c4d8acae064e96b73714a70c49768d": {
          "model_module": "@jupyter-widgets/controls",
          "model_name": "HBoxModel",
          "model_module_version": "1.5.0",
          "state": {
            "_dom_classes": [],
            "_model_module": "@jupyter-widgets/controls",
            "_model_module_version": "1.5.0",
            "_model_name": "HBoxModel",
            "_view_count": null,
            "_view_module": "@jupyter-widgets/controls",
            "_view_module_version": "1.5.0",
            "_view_name": "HBoxView",
            "box_style": "",
            "children": [
              "IPY_MODEL_1c65b7c8d82144829730edbbb3aa81c7",
              "IPY_MODEL_63fd30b133174dafa3cd700d9f16100d",
              "IPY_MODEL_ed94694cb4e34d2789e09cc3393b5986"
            ],
            "layout": "IPY_MODEL_7a9b18ff6ff54c79a7a099abbbeb0b0f"
          }
        },
        "1c65b7c8d82144829730edbbb3aa81c7": {
          "model_module": "@jupyter-widgets/controls",
          "model_name": "HTMLModel",
          "model_module_version": "1.5.0",
          "state": {
            "_dom_classes": [],
            "_model_module": "@jupyter-widgets/controls",
            "_model_module_version": "1.5.0",
            "_model_name": "HTMLModel",
            "_view_count": null,
            "_view_module": "@jupyter-widgets/controls",
            "_view_module_version": "1.5.0",
            "_view_name": "HTMLView",
            "description": "",
            "description_tooltip": null,
            "layout": "IPY_MODEL_31e837cec54c46288de87f7c123a005a",
            "placeholder": "​",
            "style": "IPY_MODEL_cdbfaba04d8e4bf1b26d737c22f34a6e",
            "value": "100%"
          }
        },
        "63fd30b133174dafa3cd700d9f16100d": {
          "model_module": "@jupyter-widgets/controls",
          "model_name": "FloatProgressModel",
          "model_module_version": "1.5.0",
          "state": {
            "_dom_classes": [],
            "_model_module": "@jupyter-widgets/controls",
            "_model_module_version": "1.5.0",
            "_model_name": "FloatProgressModel",
            "_view_count": null,
            "_view_module": "@jupyter-widgets/controls",
            "_view_module_version": "1.5.0",
            "_view_name": "ProgressView",
            "bar_style": "success",
            "description": "",
            "description_tooltip": null,
            "layout": "IPY_MODEL_57130b8085154af39418b13ebe0ea388",
            "max": 10497,
            "min": 0,
            "orientation": "horizontal",
            "style": "IPY_MODEL_588ce7ab5461495b84bf3be5533d8184",
            "value": 10497
          }
        },
        "ed94694cb4e34d2789e09cc3393b5986": {
          "model_module": "@jupyter-widgets/controls",
          "model_name": "HTMLModel",
          "model_module_version": "1.5.0",
          "state": {
            "_dom_classes": [],
            "_model_module": "@jupyter-widgets/controls",
            "_model_module_version": "1.5.0",
            "_model_name": "HTMLModel",
            "_view_count": null,
            "_view_module": "@jupyter-widgets/controls",
            "_view_module_version": "1.5.0",
            "_view_name": "HTMLView",
            "description": "",
            "description_tooltip": null,
            "layout": "IPY_MODEL_65e898cc242b4f919f857955ceb08050",
            "placeholder": "​",
            "style": "IPY_MODEL_9cad5bcdc5a3440c9b7e5c5f4829ac2f",
            "value": " 10497/10497 [00:00&lt;00:00, 48641.81it/s]"
          }
        },
        "7a9b18ff6ff54c79a7a099abbbeb0b0f": {
          "model_module": "@jupyter-widgets/base",
          "model_name": "LayoutModel",
          "model_module_version": "1.2.0",
          "state": {
            "_model_module": "@jupyter-widgets/base",
            "_model_module_version": "1.2.0",
            "_model_name": "LayoutModel",
            "_view_count": null,
            "_view_module": "@jupyter-widgets/base",
            "_view_module_version": "1.2.0",
            "_view_name": "LayoutView",
            "align_content": null,
            "align_items": null,
            "align_self": null,
            "border": null,
            "bottom": null,
            "display": null,
            "flex": null,
            "flex_flow": null,
            "grid_area": null,
            "grid_auto_columns": null,
            "grid_auto_flow": null,
            "grid_auto_rows": null,
            "grid_column": null,
            "grid_gap": null,
            "grid_row": null,
            "grid_template_areas": null,
            "grid_template_columns": null,
            "grid_template_rows": null,
            "height": null,
            "justify_content": null,
            "justify_items": null,
            "left": null,
            "margin": null,
            "max_height": null,
            "max_width": null,
            "min_height": null,
            "min_width": null,
            "object_fit": null,
            "object_position": null,
            "order": null,
            "overflow": null,
            "overflow_x": null,
            "overflow_y": null,
            "padding": null,
            "right": null,
            "top": null,
            "visibility": null,
            "width": null
          }
        },
        "31e837cec54c46288de87f7c123a005a": {
          "model_module": "@jupyter-widgets/base",
          "model_name": "LayoutModel",
          "model_module_version": "1.2.0",
          "state": {
            "_model_module": "@jupyter-widgets/base",
            "_model_module_version": "1.2.0",
            "_model_name": "LayoutModel",
            "_view_count": null,
            "_view_module": "@jupyter-widgets/base",
            "_view_module_version": "1.2.0",
            "_view_name": "LayoutView",
            "align_content": null,
            "align_items": null,
            "align_self": null,
            "border": null,
            "bottom": null,
            "display": null,
            "flex": null,
            "flex_flow": null,
            "grid_area": null,
            "grid_auto_columns": null,
            "grid_auto_flow": null,
            "grid_auto_rows": null,
            "grid_column": null,
            "grid_gap": null,
            "grid_row": null,
            "grid_template_areas": null,
            "grid_template_columns": null,
            "grid_template_rows": null,
            "height": null,
            "justify_content": null,
            "justify_items": null,
            "left": null,
            "margin": null,
            "max_height": null,
            "max_width": null,
            "min_height": null,
            "min_width": null,
            "object_fit": null,
            "object_position": null,
            "order": null,
            "overflow": null,
            "overflow_x": null,
            "overflow_y": null,
            "padding": null,
            "right": null,
            "top": null,
            "visibility": null,
            "width": null
          }
        },
        "cdbfaba04d8e4bf1b26d737c22f34a6e": {
          "model_module": "@jupyter-widgets/controls",
          "model_name": "DescriptionStyleModel",
          "model_module_version": "1.5.0",
          "state": {
            "_model_module": "@jupyter-widgets/controls",
            "_model_module_version": "1.5.0",
            "_model_name": "DescriptionStyleModel",
            "_view_count": null,
            "_view_module": "@jupyter-widgets/base",
            "_view_module_version": "1.2.0",
            "_view_name": "StyleView",
            "description_width": ""
          }
        },
        "57130b8085154af39418b13ebe0ea388": {
          "model_module": "@jupyter-widgets/base",
          "model_name": "LayoutModel",
          "model_module_version": "1.2.0",
          "state": {
            "_model_module": "@jupyter-widgets/base",
            "_model_module_version": "1.2.0",
            "_model_name": "LayoutModel",
            "_view_count": null,
            "_view_module": "@jupyter-widgets/base",
            "_view_module_version": "1.2.0",
            "_view_name": "LayoutView",
            "align_content": null,
            "align_items": null,
            "align_self": null,
            "border": null,
            "bottom": null,
            "display": null,
            "flex": null,
            "flex_flow": null,
            "grid_area": null,
            "grid_auto_columns": null,
            "grid_auto_flow": null,
            "grid_auto_rows": null,
            "grid_column": null,
            "grid_gap": null,
            "grid_row": null,
            "grid_template_areas": null,
            "grid_template_columns": null,
            "grid_template_rows": null,
            "height": null,
            "justify_content": null,
            "justify_items": null,
            "left": null,
            "margin": null,
            "max_height": null,
            "max_width": null,
            "min_height": null,
            "min_width": null,
            "object_fit": null,
            "object_position": null,
            "order": null,
            "overflow": null,
            "overflow_x": null,
            "overflow_y": null,
            "padding": null,
            "right": null,
            "top": null,
            "visibility": null,
            "width": null
          }
        },
        "588ce7ab5461495b84bf3be5533d8184": {
          "model_module": "@jupyter-widgets/controls",
          "model_name": "ProgressStyleModel",
          "model_module_version": "1.5.0",
          "state": {
            "_model_module": "@jupyter-widgets/controls",
            "_model_module_version": "1.5.0",
            "_model_name": "ProgressStyleModel",
            "_view_count": null,
            "_view_module": "@jupyter-widgets/base",
            "_view_module_version": "1.2.0",
            "_view_name": "StyleView",
            "bar_color": null,
            "description_width": ""
          }
        },
        "65e898cc242b4f919f857955ceb08050": {
          "model_module": "@jupyter-widgets/base",
          "model_name": "LayoutModel",
          "model_module_version": "1.2.0",
          "state": {
            "_model_module": "@jupyter-widgets/base",
            "_model_module_version": "1.2.0",
            "_model_name": "LayoutModel",
            "_view_count": null,
            "_view_module": "@jupyter-widgets/base",
            "_view_module_version": "1.2.0",
            "_view_name": "LayoutView",
            "align_content": null,
            "align_items": null,
            "align_self": null,
            "border": null,
            "bottom": null,
            "display": null,
            "flex": null,
            "flex_flow": null,
            "grid_area": null,
            "grid_auto_columns": null,
            "grid_auto_flow": null,
            "grid_auto_rows": null,
            "grid_column": null,
            "grid_gap": null,
            "grid_row": null,
            "grid_template_areas": null,
            "grid_template_columns": null,
            "grid_template_rows": null,
            "height": null,
            "justify_content": null,
            "justify_items": null,
            "left": null,
            "margin": null,
            "max_height": null,
            "max_width": null,
            "min_height": null,
            "min_width": null,
            "object_fit": null,
            "object_position": null,
            "order": null,
            "overflow": null,
            "overflow_x": null,
            "overflow_y": null,
            "padding": null,
            "right": null,
            "top": null,
            "visibility": null,
            "width": null
          }
        },
        "9cad5bcdc5a3440c9b7e5c5f4829ac2f": {
          "model_module": "@jupyter-widgets/controls",
          "model_name": "DescriptionStyleModel",
          "model_module_version": "1.5.0",
          "state": {
            "_model_module": "@jupyter-widgets/controls",
            "_model_module_version": "1.5.0",
            "_model_name": "DescriptionStyleModel",
            "_view_count": null,
            "_view_module": "@jupyter-widgets/base",
            "_view_module_version": "1.2.0",
            "_view_name": "StyleView",
            "description_width": ""
          }
        },
        "c2e4f31f9e30435c99af954ca85c5eaa": {
          "model_module": "@jupyter-widgets/controls",
          "model_name": "HBoxModel",
          "model_module_version": "1.5.0",
          "state": {
            "_dom_classes": [],
            "_model_module": "@jupyter-widgets/controls",
            "_model_module_version": "1.5.0",
            "_model_name": "HBoxModel",
            "_view_count": null,
            "_view_module": "@jupyter-widgets/controls",
            "_view_module_version": "1.5.0",
            "_view_name": "HBoxView",
            "box_style": "",
            "children": [
              "IPY_MODEL_677acb478a584cce9b4279a6bdacd51f",
              "IPY_MODEL_23649bbe8b1744e3b9f62476d167cfe5",
              "IPY_MODEL_e47ad0137ba3478b9af23b6fce2ddaec"
            ],
            "layout": "IPY_MODEL_2709714abf0a4434a92903c593206a0b"
          }
        },
        "677acb478a584cce9b4279a6bdacd51f": {
          "model_module": "@jupyter-widgets/controls",
          "model_name": "HTMLModel",
          "model_module_version": "1.5.0",
          "state": {
            "_dom_classes": [],
            "_model_module": "@jupyter-widgets/controls",
            "_model_module_version": "1.5.0",
            "_model_name": "HTMLModel",
            "_view_count": null,
            "_view_module": "@jupyter-widgets/controls",
            "_view_module_version": "1.5.0",
            "_view_name": "HTMLView",
            "description": "",
            "description_tooltip": null,
            "layout": "IPY_MODEL_7b067d0822ad4e789488b636d882e120",
            "placeholder": "​",
            "style": "IPY_MODEL_68d3082db8b44cfd8d5c30a1b9c48bf0",
            "value": "100%"
          }
        },
        "23649bbe8b1744e3b9f62476d167cfe5": {
          "model_module": "@jupyter-widgets/controls",
          "model_name": "FloatProgressModel",
          "model_module_version": "1.5.0",
          "state": {
            "_dom_classes": [],
            "_model_module": "@jupyter-widgets/controls",
            "_model_module_version": "1.5.0",
            "_model_name": "FloatProgressModel",
            "_view_count": null,
            "_view_module": "@jupyter-widgets/controls",
            "_view_module_version": "1.5.0",
            "_view_name": "ProgressView",
            "bar_style": "success",
            "description": "",
            "description_tooltip": null,
            "layout": "IPY_MODEL_31bb66bac6ce43168cf532771d706196",
            "max": 10497,
            "min": 0,
            "orientation": "horizontal",
            "style": "IPY_MODEL_cc24b1031d5d4cdfab5e80920dbe3ce1",
            "value": 10497
          }
        },
        "e47ad0137ba3478b9af23b6fce2ddaec": {
          "model_module": "@jupyter-widgets/controls",
          "model_name": "HTMLModel",
          "model_module_version": "1.5.0",
          "state": {
            "_dom_classes": [],
            "_model_module": "@jupyter-widgets/controls",
            "_model_module_version": "1.5.0",
            "_model_name": "HTMLModel",
            "_view_count": null,
            "_view_module": "@jupyter-widgets/controls",
            "_view_module_version": "1.5.0",
            "_view_name": "HTMLView",
            "description": "",
            "description_tooltip": null,
            "layout": "IPY_MODEL_0a03d274a79649db973c9cc8463a7c56",
            "placeholder": "​",
            "style": "IPY_MODEL_61a88c0dea0a4f02b65e513c40dc9600",
            "value": " 10497/10497 [06:01&lt;00:00, 269.97it/s]"
          }
        },
        "2709714abf0a4434a92903c593206a0b": {
          "model_module": "@jupyter-widgets/base",
          "model_name": "LayoutModel",
          "model_module_version": "1.2.0",
          "state": {
            "_model_module": "@jupyter-widgets/base",
            "_model_module_version": "1.2.0",
            "_model_name": "LayoutModel",
            "_view_count": null,
            "_view_module": "@jupyter-widgets/base",
            "_view_module_version": "1.2.0",
            "_view_name": "LayoutView",
            "align_content": null,
            "align_items": null,
            "align_self": null,
            "border": null,
            "bottom": null,
            "display": null,
            "flex": null,
            "flex_flow": null,
            "grid_area": null,
            "grid_auto_columns": null,
            "grid_auto_flow": null,
            "grid_auto_rows": null,
            "grid_column": null,
            "grid_gap": null,
            "grid_row": null,
            "grid_template_areas": null,
            "grid_template_columns": null,
            "grid_template_rows": null,
            "height": null,
            "justify_content": null,
            "justify_items": null,
            "left": null,
            "margin": null,
            "max_height": null,
            "max_width": null,
            "min_height": null,
            "min_width": null,
            "object_fit": null,
            "object_position": null,
            "order": null,
            "overflow": null,
            "overflow_x": null,
            "overflow_y": null,
            "padding": null,
            "right": null,
            "top": null,
            "visibility": null,
            "width": null
          }
        },
        "7b067d0822ad4e789488b636d882e120": {
          "model_module": "@jupyter-widgets/base",
          "model_name": "LayoutModel",
          "model_module_version": "1.2.0",
          "state": {
            "_model_module": "@jupyter-widgets/base",
            "_model_module_version": "1.2.0",
            "_model_name": "LayoutModel",
            "_view_count": null,
            "_view_module": "@jupyter-widgets/base",
            "_view_module_version": "1.2.0",
            "_view_name": "LayoutView",
            "align_content": null,
            "align_items": null,
            "align_self": null,
            "border": null,
            "bottom": null,
            "display": null,
            "flex": null,
            "flex_flow": null,
            "grid_area": null,
            "grid_auto_columns": null,
            "grid_auto_flow": null,
            "grid_auto_rows": null,
            "grid_column": null,
            "grid_gap": null,
            "grid_row": null,
            "grid_template_areas": null,
            "grid_template_columns": null,
            "grid_template_rows": null,
            "height": null,
            "justify_content": null,
            "justify_items": null,
            "left": null,
            "margin": null,
            "max_height": null,
            "max_width": null,
            "min_height": null,
            "min_width": null,
            "object_fit": null,
            "object_position": null,
            "order": null,
            "overflow": null,
            "overflow_x": null,
            "overflow_y": null,
            "padding": null,
            "right": null,
            "top": null,
            "visibility": null,
            "width": null
          }
        },
        "68d3082db8b44cfd8d5c30a1b9c48bf0": {
          "model_module": "@jupyter-widgets/controls",
          "model_name": "DescriptionStyleModel",
          "model_module_version": "1.5.0",
          "state": {
            "_model_module": "@jupyter-widgets/controls",
            "_model_module_version": "1.5.0",
            "_model_name": "DescriptionStyleModel",
            "_view_count": null,
            "_view_module": "@jupyter-widgets/base",
            "_view_module_version": "1.2.0",
            "_view_name": "StyleView",
            "description_width": ""
          }
        },
        "31bb66bac6ce43168cf532771d706196": {
          "model_module": "@jupyter-widgets/base",
          "model_name": "LayoutModel",
          "model_module_version": "1.2.0",
          "state": {
            "_model_module": "@jupyter-widgets/base",
            "_model_module_version": "1.2.0",
            "_model_name": "LayoutModel",
            "_view_count": null,
            "_view_module": "@jupyter-widgets/base",
            "_view_module_version": "1.2.0",
            "_view_name": "LayoutView",
            "align_content": null,
            "align_items": null,
            "align_self": null,
            "border": null,
            "bottom": null,
            "display": null,
            "flex": null,
            "flex_flow": null,
            "grid_area": null,
            "grid_auto_columns": null,
            "grid_auto_flow": null,
            "grid_auto_rows": null,
            "grid_column": null,
            "grid_gap": null,
            "grid_row": null,
            "grid_template_areas": null,
            "grid_template_columns": null,
            "grid_template_rows": null,
            "height": null,
            "justify_content": null,
            "justify_items": null,
            "left": null,
            "margin": null,
            "max_height": null,
            "max_width": null,
            "min_height": null,
            "min_width": null,
            "object_fit": null,
            "object_position": null,
            "order": null,
            "overflow": null,
            "overflow_x": null,
            "overflow_y": null,
            "padding": null,
            "right": null,
            "top": null,
            "visibility": null,
            "width": null
          }
        },
        "cc24b1031d5d4cdfab5e80920dbe3ce1": {
          "model_module": "@jupyter-widgets/controls",
          "model_name": "ProgressStyleModel",
          "model_module_version": "1.5.0",
          "state": {
            "_model_module": "@jupyter-widgets/controls",
            "_model_module_version": "1.5.0",
            "_model_name": "ProgressStyleModel",
            "_view_count": null,
            "_view_module": "@jupyter-widgets/base",
            "_view_module_version": "1.2.0",
            "_view_name": "StyleView",
            "bar_color": null,
            "description_width": ""
          }
        },
        "0a03d274a79649db973c9cc8463a7c56": {
          "model_module": "@jupyter-widgets/base",
          "model_name": "LayoutModel",
          "model_module_version": "1.2.0",
          "state": {
            "_model_module": "@jupyter-widgets/base",
            "_model_module_version": "1.2.0",
            "_model_name": "LayoutModel",
            "_view_count": null,
            "_view_module": "@jupyter-widgets/base",
            "_view_module_version": "1.2.0",
            "_view_name": "LayoutView",
            "align_content": null,
            "align_items": null,
            "align_self": null,
            "border": null,
            "bottom": null,
            "display": null,
            "flex": null,
            "flex_flow": null,
            "grid_area": null,
            "grid_auto_columns": null,
            "grid_auto_flow": null,
            "grid_auto_rows": null,
            "grid_column": null,
            "grid_gap": null,
            "grid_row": null,
            "grid_template_areas": null,
            "grid_template_columns": null,
            "grid_template_rows": null,
            "height": null,
            "justify_content": null,
            "justify_items": null,
            "left": null,
            "margin": null,
            "max_height": null,
            "max_width": null,
            "min_height": null,
            "min_width": null,
            "object_fit": null,
            "object_position": null,
            "order": null,
            "overflow": null,
            "overflow_x": null,
            "overflow_y": null,
            "padding": null,
            "right": null,
            "top": null,
            "visibility": null,
            "width": null
          }
        },
        "61a88c0dea0a4f02b65e513c40dc9600": {
          "model_module": "@jupyter-widgets/controls",
          "model_name": "DescriptionStyleModel",
          "model_module_version": "1.5.0",
          "state": {
            "_model_module": "@jupyter-widgets/controls",
            "_model_module_version": "1.5.0",
            "_model_name": "DescriptionStyleModel",
            "_view_count": null,
            "_view_module": "@jupyter-widgets/base",
            "_view_module_version": "1.2.0",
            "_view_name": "StyleView",
            "description_width": ""
          }
        }
      }
    }
  },
  "nbformat": 4,
  "nbformat_minor": 0
}